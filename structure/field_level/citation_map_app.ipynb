{
 "cells": [
  {
   "cell_type": "code",
   "execution_count": 682,
   "id": "2aa43754",
   "metadata": {},
   "outputs": [],
   "source": [
    "import pandas as pd"
   ]
  },
  {
   "cell_type": "code",
   "execution_count": 743,
   "id": "304eb3b0",
   "metadata": {},
   "outputs": [],
   "source": [
    "node_labels = {0: 'Law, Politics',\n",
    "               1: 'Geography & Environment',\n",
    "               2: 'Computing',\n",
    "               3: 'Dentistry, Ophthalmology, Dermatology',\n",
    "               4: 'Oncology',\n",
    "5: 'Electrical & Electronic Engineering',\n",
    "6: 'Physics',\n",
    "7: 'Cardiology',\n",
    "8: 'Ecology & Zoology',\n",
    "9: 'Psychology',\n",
    "10: 'Information Engineering',\n",
    "11: 'Chemistry & Materials',\n",
    "12: 'Geology',\n",
    "13: 'History & Literature & Philosophy',\n",
    "14: 'Mechanic Engineering',\n",
    "15: 'Mathematics',\n",
    "16: 'Animal',\n",
    "17: 'Molecular & Cell Biology',\n",
    "18: 'Infectious Diseases',\n",
    "19: 'Linguistics',\n",
    "20: 'Nursing',\n",
    "21: 'Agriculture',\n",
    "22: 'Rehabilitation & Sports',\n",
    "23: 'Sociology & Culture',\n",
    "24: 'Economics',\n",
    "25: 'Education'}"
   ]
  },
  {
   "cell_type": "code",
   "execution_count": 684,
   "id": "473eba17",
   "metadata": {},
   "outputs": [],
   "source": [
    "node_stats_df = pd.read_csv(\"/home/lyuzhuoqi/projects/clustering/structure/node.csv\")"
   ]
  },
  {
   "cell_type": "code",
   "execution_count": 685,
   "id": "b06e642c",
   "metadata": {},
   "outputs": [],
   "source": [
    "edge_df = pd.read_csv(\"/home/lyuzhuoqi/projects/clustering/structure/filtered_edge.csv\")"
   ]
  },
  {
   "cell_type": "code",
   "execution_count": 686,
   "id": "db344533",
   "metadata": {},
   "outputs": [],
   "source": [
    "node_stats_df['color'] = (node_stats_df['inner_citations']-node_stats_df['inner_citations'].min())/(node_stats_df['inner_citations'].max()-node_stats_df['inner_citations'].min())\n",
    "edge_df['normalized_weight'] = (edge_df['weight']-edge_df['weight'].min())/(edge_df['weight'].max()-edge_df['weight'].min())"
   ]
  },
  {
   "cell_type": "code",
   "execution_count": 943,
   "id": "c0f35011",
   "metadata": {},
   "outputs": [
    {
     "data": {
      "application/vnd.jupyter.widget-view+json": {
       "model_id": "8d5d54bbb62a4a2a89f7e245f1de533a",
       "version_major": 2,
       "version_minor": 0
      },
      "text/plain": [
       "Figure(fig_margin={'top': 60, 'bottom': 60, 'left': 60, 'right': 60}, layout=Layout(height='1200px', width='12…"
      ]
     },
     "execution_count": 943,
     "metadata": {},
     "output_type": "execute_result"
    }
   ],
   "source": [
    "from bqplot import Graph, ColorScale, Figure\n",
    "import ipywidgets as widgets\n",
    "import numpy as np\n",
    "\n",
    "# 转换节点和边数据\n",
    "node_data = []\n",
    "for _, row in node_stats_df.iterrows():\n",
    "    r = np.sqrt(row.total_citations)*0.005\n",
    "    label_text = node_labels[row.cluster]\n",
    "    label_loc = 'center'\n",
    "    if r < 15 or len(label_text) > 25:\n",
    "        label_loc = 'outside'\n",
    "    node_data.append({\n",
    "        'label': label_text,\n",
    "        'label_display': label_loc,\n",
    "        'shape': 'circle',\n",
    "        'color': row.color,\n",
    "        'shape_attrs': {'r': r},\n",
    "    })\n",
    "\n",
    "link_data = []\n",
    "for _, row in edge_df.iterrows():    \n",
    "    link_data.append({\n",
    "        'source': row.source,\n",
    "        'target': row.target,\n",
    "        'value': row.normalized_weight,\n",
    "    })\n",
    "\n",
    "# 创建颜色比例尺\n",
    "node_color_scale = ColorScale(min=node_stats_df.color.min(), \n",
    "                             max=node_stats_df.color.max(),\n",
    "                             colors=['#ffeda0', '#f03b20'])\n",
    "link_color_scale = ColorScale(min=edge_df.normalized_weight.min(), \n",
    "                             mid=edge_df.normalized_weight.mean(),\n",
    "                             max=edge_df.normalized_weight.max(),\n",
    "                             colors=['#f7fbff', '#6baed6', '#08306b'])\n",
    "\n",
    "# 创建图形标记\n",
    "graph = Graph(\n",
    "    node_data=node_data,\n",
    "    link_data=link_data,\n",
    "    static=False,\n",
    "    directed=True,\n",
    "    link_type='arc',\n",
    "    scales={\n",
    "        'color': node_color_scale,\n",
    "        'link_color': link_color_scale\n",
    "    },\n",
    "    charge=-1500,\n",
    ")\n",
    "\n",
    "# 创建图形并添加图例\n",
    "figure = Figure(\n",
    "    marks=[graph],\n",
    "    layout=widgets.Layout(width='1200px', height='1200px'),\n",
    ")\n",
    "\n",
    "figure"
   ]
  },
  {
   "cell_type": "code",
   "execution_count": null,
   "id": "0980d0e6",
   "metadata": {},
   "outputs": [
    {
     "data": {
      "text/html": [
       "\n",
       "<div style=\"width: 16%; padding: 15px; background: white; border-radius: 6px; box-shadow: 0 2px 4px rgba(0,0,0,0.1);\">\n",
       "    <h7 style=\"margin-top: 0; margin-bottom: -0px; color: #333;\">Node Size: Total Citations</h7>\n",
       "    \n",
       "    <div style=\"margin-bottom: -0px;\">\n",
       "        <div style=\"display: flex; align-items: flex-end; height: 100px; margin-top: 0px;\">\n",
       "            <div style=\"display: flex; flex-direction: column; align-items: center; margin: 0 8px;\"><div style=\"width: 4.495086206069913px; height: 4.495086206069913px; border-radius: 50%; background: #ffeda0; border: 1.75px solid #0b0b0b;\"></div><span style=\"margin-top: 8px; font-size: 12px; color: #333\">50514</span></div><div style=\"display: flex; flex-direction: column; align-items: center; margin: 0 8px;\"><div style=\"width: 22.643614076261304px; height: 22.643614076261304px; border-radius: 50%; background: #ffeda0; border: 1.75px solid #0b0b0b;\"></div><span style=\"margin-top: 8px; font-size: 12px; color: #333\">1281833</span></div><div style=\"display: flex; flex-direction: column; align-items: center; margin: 0 8px;\"><div style=\"width: 40.792141946452695px; height: 40.792141946452695px; border-radius: 50%; background: #ffeda0; border: 1.75px solid #0b0b0b;\"></div><span style=\"margin-top: 8px; font-size: 12px; color: #333\">4159997</span></div><div style=\"display: flex; flex-direction: column; align-items: center; margin: 0 8px;\"><div style=\"width: 58.94066981664409px; height: 58.94066981664409px; border-radius: 50%; background: #ffeda0; border: 1.75px solid #0b0b0b;\"></div><span style=\"margin-top: 8px; font-size: 12px; color: #333\">8685006</span></div><div style=\"display: flex; flex-direction: column; align-items: center; margin: 0 8px;\"><div style=\"width: 77.08919768683548px; height: 77.08919768683548px; border-radius: 50%; background: #ffeda0; border: 1.75px solid #0b0b0b;\"></div><span style=\"margin-top: 8px; font-size: 12px; color: #333\">14856861</span></div>\n",
       "        </div>\n",
       "    </div>\n",
       "    \n",
       "    <h7 style=\"margin-bottom: 5px; color: #333;\">Node Color: Intradisciplinary Citations</h7>\n",
       "    <div style=\"height: 10px; width: 100%; background: linear-gradient(to right, #ffeda0, #f03b20); border-radius: 4px;\"></div>\n",
       "    <div style=\"margin-bottom: -0px; display: flex; justify-content: space-between; font-size: 12px; color: #333\">\n",
       "        <span>20884</span>\n",
       "        <span>10614011</span>\n",
       "        <span>21207138</span>\n",
       "        <span>31800266</span>\n",
       "        <span>42393393</span>\n",
       "    </div>\n",
       "\n",
       "    <h7 style=\"margin-bottom: 5px; color: #333;\">Edge Weight: Interdisciplinary Citations</h7>\n",
       "    <div style=\"height: 10px; width: 100%; background: linear-gradient(to right, #f7fbff, #6baed6, #08306b); border-radius: 4px;\"></div>\n",
       "    <div style=\"margin-bottom: -10px; display: flex; justify-content: space-between;\">\n",
       "        <span style=\"font-size: 12px; color: #333;\">14412</span>\n",
       "        <span style=\"font-size: 12px; color: #333;\">1206925</span>\n",
       "        <span style=\"font-size: 12px; color: #333;\">2399438</span>\n",
       "        <span style=\"font-size: 12px; color: #333;\">3591950</span>\n",
       "        <span style=\"font-size: 12px; color: #333;\">4784463</span>\n",
       "    </div>\n",
       "</div>\n"
      ],
      "text/plain": [
       "<IPython.core.display.HTML object>"
      ]
     },
     "metadata": {},
     "output_type": "display_data"
    }
   ],
   "source": [
    "from IPython.display import display, HTML\n",
    "import numpy as np\n",
    "\n",
    "# 计算实际显示参数\n",
    "# 节点大小参数\n",
    "node_sizes = np.sqrt(node_stats_df['total_citations']) * 0.005\n",
    "min_size, max_size = node_sizes.min(), node_sizes.max()\n",
    "size_legend_values = np.linspace(min_size, max_size, 5)\n",
    "size_labels = [f\"{(s/0.01)**2:.0f}\" for s in size_legend_values]\n",
    "\n",
    "# 节点颜色参数\n",
    "inner_citations_min = node_stats_df['inner_citations'].min()\n",
    "inner_citations_max = node_stats_df['inner_citations'].max()\n",
    "\n",
    "# 边颜色参数\n",
    "edge_min = edge_df['weight'].min()\n",
    "edge_max = edge_df['weight'].max()\n",
    "\n",
    "legend_html = f\"\"\"\n",
    "<div style=\"width: 14%; padding: 15px; background: white; border-radius: 6px; box-shadow: 0 2px 4px rgba(0,0,0,0.1);\">\n",
    "    <h7 style=\"color: #333;\">Node Size: Total Citations</h7>\n",
    "    \n",
    "    <div>\n",
    "        <div style=\"display: flex; align-items: flex-end; height: 100px;\">\n",
    "            {''.join([f'<div style=\"display: flex; flex-direction: column; align-items: center; margin: 0 8px;\">'\n",
    "                     f'<div style=\"width: {s*2}px; height: {s*2}px; border-radius: 50%; '\n",
    "                     f'background: #ffeda0; border: 1.75px solid #0b0b0b;\"></div>'\n",
    "                     f'<span style=\"margin-top: 8px; font-size: 12px; color: #333\">{label}</span></div>'\n",
    "                     for s, label in zip(size_legend_values, size_labels)])}\n",
    "        </div>\n",
    "    </div>\n",
    "    \n",
    "    <h7 style=\"margin-bottom: 5px; color: #333;\">Node Color: Intradisciplinary Citations</h7>\n",
    "    <div style=\"height: 10px; width: 100%; background: linear-gradient(to right, #ffeda0, #f03b20); border-radius: 4px;\"></div>\n",
    "    <div style=\"margin-bottom: -0px; display: flex; justify-content: space-between; font-size: 12px; color: #333\">\n",
    "        <span>{inner_citations_min}</span>\n",
    "        <span>{inner_citations_min+(inner_citations_max-inner_citations_min)/4:.0f}</span>\n",
    "        <span>{inner_citations_min+(inner_citations_max-inner_citations_min)/2:.0f}</span>\n",
    "        <span>{inner_citations_min+(inner_citations_max-inner_citations_min)*3/4:.0f}</span>\n",
    "        <span>{inner_citations_max}</span>\n",
    "    </div>\n",
    "\n",
    "    <h7 style=\"margin-bottom: 5px; color: #333;\">Edge Weight: Interdisciplinary Citations</h7>\n",
    "    <div style=\"height: 10px; width: 100%; background: linear-gradient(to right, #f7fbff, #6baed6, #08306b); border-radius: 4px;\"></div>\n",
    "    <div style=\"margin-bottom: -10px; display: flex; justify-content: space-between;\">\n",
    "        <span style=\"font-size: 12px; color: #333;\">{edge_min}</span>\n",
    "        <span style=\"font-size: 12px; color: #333;\">{edge_min+(edge_max-edge_min)/4:.0f}</span>\n",
    "        <span style=\"font-size: 12px; color: #333;\">{edge_min+(edge_max-edge_min)/2:.0f}</span>\n",
    "        <span style=\"font-size: 12px; color: #333;\">{edge_min+(edge_max-edge_min)*3/4:.0f}</span>\n",
    "        <span style=\"font-size: 12px; color: #333;\">{edge_max}</span>\n",
    "    </div>\n",
    "</div>\n",
    "\"\"\"\n",
    "\n",
    "display(HTML(legend_html))"
   ]
  }
 ],
 "metadata": {
  "kernelspec": {
   "display_name": "Python 3 (ipykernel)",
   "language": "python",
   "name": "python3"
  },
  "language_info": {
   "codemirror_mode": {
    "name": "ipython",
    "version": 3
   },
   "file_extension": ".py",
   "mimetype": "text/x-python",
   "name": "python",
   "nbconvert_exporter": "python",
   "pygments_lexer": "ipython3",
   "version": "3.11.8"
  }
 },
 "nbformat": 4,
 "nbformat_minor": 5
}
